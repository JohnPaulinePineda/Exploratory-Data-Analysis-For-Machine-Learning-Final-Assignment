{
 "cells": [
  {
   "cell_type": "markdown",
   "id": "33777765",
   "metadata": {},
   "source": [
    "***\n",
    "# Data Preprocessing : Data Quality Assessment, Preprocessing and Exploration for a Regression Modelling Problem"
   ]
  },
  {
   "cell_type": "markdown",
   "id": "b77be54a",
   "metadata": {},
   "source": [
    "***\n",
    "### John Pauline Pineda <br> <br> *November 4, 2023*\n",
    "***"
   ]
  },
  {
   "cell_type": "markdown",
   "id": "4baf18db",
   "metadata": {},
   "source": [
    "* [**1. Table of Contents**](#TOC)\n",
    "    * [1.1 Sample Data](#1.1)\n",
    "    * [1.2 Data Quality Assessment](#1.2)\n",
    "    * [1.3 Data Preprocessing](#1.3)\n",
    "        * [1.3.1 Missing Data Imputation](#1.3.1)\n",
    "        * [1.3.2 Outlier Treatment](#1.3.2)\n",
    "        * [1.3.3 Zero and Near-Zero Variance](#1.3.3)\n",
    "        * [1.3.4 Collinearity](#1.3.4)\n",
    "        * [1.3.5 Linear Dependencies](#1.3.5)\n",
    "        * [1.3.6 Centering and Scaling](#1.3.6)\n",
    "        * [1.3.7 Shape Transformation](#1.3.7)\n",
    "        * [1.3.8. Dummy Variables](#1.3.8)\n",
    "* [**2. Summary**](#Summary)   \n",
    "* [**3. References**](#References)\n",
    "\n",
    "***"
   ]
  },
  {
   "cell_type": "markdown",
   "id": "ab4e32b1",
   "metadata": {},
   "source": [
    "# 1. Table of Contents <a class=\"anchor\" id=\"TOC\"></a>\n",
    "This is Table of Contents"
   ]
  },
  {
   "cell_type": "markdown",
   "id": "033b2a9a",
   "metadata": {},
   "source": [
    "## 1.1. Sample Data <a class=\"anchor\" id=\"1.1\"></a>\n",
    "This is section 1.1"
   ]
  },
  {
   "cell_type": "markdown",
   "id": "57c795d7",
   "metadata": {},
   "source": [
    "## 1.2. Data Quality Assessment <a class=\"anchor\" id=\"1.2\"></a>\n",
    "This is section 1.2"
   ]
  },
  {
   "cell_type": "markdown",
   "id": "ceca8cf9",
   "metadata": {},
   "source": [
    "## 1.3. Data Preprocessing <a class=\"anchor\" id=\"1.3\"></a>\n",
    "This is section 1.3"
   ]
  },
  {
   "cell_type": "markdown",
   "id": "e939f09c",
   "metadata": {},
   "source": [
    "### 1.3.1 Missing Data Imputation <a class=\"anchor\" id=\"1.3.1\"></a>\n",
    "This is sub section 1.3.1"
   ]
  },
  {
   "cell_type": "markdown",
   "id": "904b10fb",
   "metadata": {},
   "source": [
    "### 1.3.2 Outlier Treatment <a class=\"anchor\" id=\"1.3.2\"></a>\n",
    "This is sub section 1.3.2"
   ]
  },
  {
   "cell_type": "markdown",
   "id": "55c246a6",
   "metadata": {},
   "source": [
    "### 1.3.3 Zero and Near-Zero Variance <a class=\"anchor\" id=\"1.3.3\"></a>\n",
    "This is sub section 1.3.3"
   ]
  },
  {
   "cell_type": "markdown",
   "id": "fdbdc3c1",
   "metadata": {},
   "source": [
    "### 1.3.4 Collinearity <a class=\"anchor\" id=\"1.3.4\"></a>\n",
    "This is sub section 1.3.4"
   ]
  },
  {
   "cell_type": "markdown",
   "id": "fd1c2226",
   "metadata": {},
   "source": [
    "### 1.3.5 Linear Dependencies <a class=\"anchor\" id=\"1.3.5\"></a>\n",
    "This is sub section 1.3.5"
   ]
  },
  {
   "cell_type": "markdown",
   "id": "a56d224d",
   "metadata": {},
   "source": [
    "### 1.3.6 Centering and Scaling <a class=\"anchor\" id=\"1.3.6\"></a>\n",
    "This is sub section 1.3.6"
   ]
  },
  {
   "cell_type": "markdown",
   "id": "721fde2f",
   "metadata": {},
   "source": [
    "### 1.3.7 Shape Transformation <a class=\"anchor\" id=\"1.3.7\"></a>\n",
    "This is sub section 1.3.7"
   ]
  },
  {
   "cell_type": "markdown",
   "id": "8a63273f",
   "metadata": {},
   "source": [
    "### 1.3.8 Dummy Variables <a class=\"anchor\" id=\"1.3.8\"></a>\n",
    "This is sub section 1.3.8"
   ]
  },
  {
   "cell_type": "markdown",
   "id": "cbb381ea",
   "metadata": {},
   "source": [
    "# 2. Summary <a class=\"anchor\" id=\"Summary\"></a>\n",
    "This is Summary"
   ]
  },
  {
   "cell_type": "markdown",
   "id": "935b77dc",
   "metadata": {},
   "source": [
    "# 3. References <a class=\"anchor\" id=\"References\"></a>\n",
    "* **[Book]** [Data Preparation for Machine Learning: Data Cleaning, Feature Selection, and Data Transforms in Python](https://machinelearningmastery.com/data-preparation-for-machine-learning/) by Jason Brownlee\n",
    "* **[Book]** [Feature Engineering and Selection: A Practical Approach for Predictive Models](http://www.feat.engineering/) by Max Kuhn and Kjell Johnson\n",
    "* **[Book]** [Feature Engineering for Machine Learning](https://www.oreilly.com/library/view/feature-engineering-for/9781491953235/) by Alice Zheng and Amanda Casari\n",
    "* **[Book]** [Applied Predictive Modeling](https://link.springer.com/book/10.1007/978-1-4614-6849-3?page=1) by Max Kuhn and Kjell Johnson\n",
    "* **[Book]** [Data Mining: Practical Machine Learning Tools and Techniques](https://www.sciencedirect.com/book/9780123748560/data-mining-practical-machine-learning-tools-and-techniques?via=ihub=) by Ian Witten, Eibe Frank, Mark Hall and Christopher Pal \n",
    "* **[Book]** [Data Cleaning](https://dl.acm.org/doi/book/10.1145/3310205) by Ihab Ilyas and Xu Chu\n",
    "* **[Book]** [Data Wrangling with Python](https://www.oreilly.com/library/view/data-wrangling-with/9781491948804/) by Jacqueline Kazil and Katharine Jarmul\n",
    "* **[Python Library|API]** [sklearn.datasets.make classification API](https://scikit-learn.org/stable/modules/generated/sklearn.preprocessing.MinMaxScaler.html) by Scikit-Learn Team\n",
    "* **[Python Library|API]** [sklearn.preprocessing.MinMaxScaler API](https://scikit-learn.org/stable/modules/generated/sklearn.preprocessing.MinMaxScaler.html) by Scikit-Learn Team\n",
    "* **[Python Library|API]** [sklearn.model selection.train test split API](https://scikit-learn.org/stable/modules/generated/sklearn.model_selection.train_test_split.html) by Scikit-Learn Team\n",
    "* **[Python Library|API]** [sklearn.linear model.LogisticRegression API](https://scikit-learn.org/stable/modules/generated/sklearn.linear_model.LogisticRegression.html) by Scikit-Learn Team\n",
    "* **[Python Library|API]** [sklearn.model selection.RepeatedStratifiedKFold API](https://scikit-learn.org/stable/modules/generated/sklearn.model_selection.RepeatedStratifiedKFold.html) by Scikit-Learn Team\n",
    "* **[Python Library|API]** [sklearn.model selection.cross val score API](https://scikit-learn.org/stable/modules/generated/sklearn.model_selection.cross_val_score.html) by Scikit-Learn Team"
   ]
  },
  {
   "cell_type": "markdown",
   "id": "b335ba18",
   "metadata": {},
   "source": [
    "***"
   ]
  },
  {
   "cell_type": "code",
   "execution_count": 1,
   "id": "1a619572",
   "metadata": {
    "tags": [
     "hide_cell",
     "hide_code"
    ]
   },
   "outputs": [
    {
     "data": {
      "text/html": [
       "<style>.rendered_html { font-size: 15px; font-family: 'Trebuchet MS'; }</style>"
      ],
      "text/plain": [
       "<IPython.core.display.HTML object>"
      ]
     },
     "metadata": {},
     "output_type": "display_data"
    }
   ],
   "source": [
    "from IPython.display import display, HTML\n",
    "display(HTML(\"<style>.rendered_html { font-size: 15px; font-family: 'Trebuchet MS'; }</style>\"))"
   ]
  }
 ],
 "metadata": {
  "kernelspec": {
   "display_name": "Python 3 (ipykernel)",
   "language": "python",
   "name": "python3"
  },
  "language_info": {
   "codemirror_mode": {
    "name": "ipython",
    "version": 3
   },
   "file_extension": ".py",
   "mimetype": "text/x-python",
   "name": "python",
   "nbconvert_exporter": "python",
   "pygments_lexer": "ipython3",
   "version": "3.11.4"
  }
 },
 "nbformat": 4,
 "nbformat_minor": 5
}
